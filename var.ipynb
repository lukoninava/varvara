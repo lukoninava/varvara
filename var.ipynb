{
 "cells": [
  {
   "cell_type": "markdown",
   "id": "9d5e580c",
   "metadata": {},
   "source": [
    "# Раздел 2"
   ]
  },
  {
   "cell_type": "markdown",
   "id": "05437d7d",
   "metadata": {},
   "source": [
    "### Задание 2.1"
   ]
  },
  {
   "cell_type": "code",
   "execution_count": null,
   "id": "f3ecc5d3",
   "metadata": {},
   "outputs": [
    {
     "name": "stdout",
     "output_type": "stream",
     "text": [
      "[[1.2]\n",
      " [2.4]\n",
      " [3.6]\n",
      " [3.5]\n",
      " [6.7]\n",
      " [1.5]\n",
      " [8.4]\n",
      " [3.1]\n",
      " [9.2]]\n"
     ]
    }
   ],
   "source": [
    "import numpy as np \n",
    "\n",
    "a = np.array([1.2, 2.4, 3.6, 3.5, 6.7, 1.5, 8.4, 3.1, 9.2])\n",
    "A = a.reshape(9,1)\n",
    "print(A)\n"
   ]
  },
  {
   "cell_type": "markdown",
   "id": "b816ee1c",
   "metadata": {},
   "source": []
  }
 ],
 "metadata": {
  "kernelspec": {
   "display_name": "Python 3",
   "language": "python",
   "name": "python3"
  },
  "language_info": {
   "codemirror_mode": {
    "name": "ipython",
    "version": 3
   },
   "file_extension": ".py",
   "mimetype": "text/x-python",
   "name": "python",
   "nbconvert_exporter": "python",
   "pygments_lexer": "ipython3",
   "version": "3.10.6"
  },
  "vscode": {
   "interpreter": {
    "hash": "1cd761da5502b86282a59590290e14656478c7beed6ba19c92fcc42e2ebe3491"
   }
  }
 },
 "nbformat": 4,
 "nbformat_minor": 5
}
